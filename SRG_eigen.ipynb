{
 "cells": [
  {
   "cell_type": "code",
   "execution_count": 6,
   "metadata": {},
   "outputs": [],
   "source": [
    "import numpy.matlib\n",
    "import numpy as np"
   ]
  },
  {
   "cell_type": "markdown",
   "metadata": {},
   "source": [
    "the example on the paper \"SCALED RELATIVE GRAPH:\n",
    "NONEXPANSIVE OPERATORS VIA 2D EUCLIDEAN GEOMETRY\""
   ]
  },
  {
   "cell_type": "markdown",
   "metadata": {},
   "source": [
    "the 3 * 3 matrix A"
   ]
  },
  {
   "cell_type": "code",
   "execution_count": 7,
   "metadata": {},
   "outputs": [],
   "source": [
    "A = np.array([0.5,2,0,-0.5,0.5,0,0,0,2])\n",
    "A = A.reshape(3,3)"
   ]
  },
  {
   "cell_type": "markdown",
   "metadata": {},
   "source": [
    "calculate the eigenvalue of A"
   ]
  },
  {
   "cell_type": "code",
   "execution_count": 8,
   "metadata": {},
   "outputs": [],
   "source": [
    "g,h = numpy.linalg.eig(A)\n",
    "ss = np.zeros(3)\n",
    "tt = np.zeros(3)\n",
    "ss[0] = g[0].real\n",
    "tt[0] = g[0].imag\n",
    "ss[1] = g[1].real\n",
    "tt[1] = g[1].imag\n",
    "ss[2] = g[2].real\n",
    "tt[2] = g[2].imag"
   ]
  },
  {
   "cell_type": "markdown",
   "metadata": {},
   "source": [
    "calculate the SRG of A"
   ]
  },
  {
   "cell_type": "code",
   "execution_count": 9,
   "metadata": {},
   "outputs": [],
   "source": [
    "n = 10000\n",
    "s = np.zeros(n)\n",
    "t = np.zeros(n)\n",
    "p = np.zeros(n)\n",
    "\n",
    "for i in range(n):\n",
    "    x = np.random.rand(3)\n",
    "    x = 20*(x.reshape(3,1)-0.5)\n",
    "    #print(x)\n",
    "    u = np.matmul(A,x)\n",
    "    #print(u)\n",
    "\n",
    "    unorm = np.linalg.norm(u)\n",
    "    xnorm = np.linalg.norm(x)\n",
    "    r = unorm / xnorm \n",
    "    #print(unorm,xnorm,r,np.vdot(u,x))\n",
    "\n",
    "    cos_theta = np.vdot(u,x)/(unorm * xnorm)\n",
    "    theta = np.arccos(cos_theta)\n",
    "    angle = theta*360/2/np.pi\n",
    "    #print(theta,angle)\n",
    "    \n",
    "    s[i] = r * np.cos(theta)\n",
    "    t[i] = r * np.sin(theta)\n",
    "    p[i] = r * np.sin(-theta)"
   ]
  },
  {
   "cell_type": "markdown",
   "metadata": {},
   "source": [
    "plot"
   ]
  },
  {
   "cell_type": "code",
   "execution_count": 10,
   "metadata": {},
   "outputs": [
    {
     "data": {
      "image/png": "[encoded data removed]",
      "text/plain": [
       "<Figure size 432x288 with 1 Axes>"
      ]
     },
     "metadata": {
      "needs_background": "light"
     },
     "output_type": "display_data"
    }
   ],
   "source": [
    "import matplotlib.pyplot as plt\n",
    "plt.scatter(s, t)\n",
    "plt.scatter(s, p)\n",
    "plt.scatter(ss, tt)\n",
    "plt.show()"
   ]
  },
  {
   "cell_type": "markdown",
   "metadata": {},
   "source": [
    "the counterexample of 2 * 2  matrix"
   ]
  },
  {
   "cell_type": "code",
   "execution_count": 11,
   "metadata": {},
   "outputs": [],
   "source": [
    "a = np.array([1,2,-1,2])\n",
    "a = a.reshape(2,2)"
   ]
  },
  {
   "cell_type": "markdown",
   "metadata": {},
   "source": [
    "calculate the eigenvalue of a"
   ]
  },
  {
   "cell_type": "code",
   "execution_count": 15,
   "metadata": {},
   "outputs": [],
   "source": [
    "g,h = numpy.linalg.eig(a)\n",
    "ss = np.zeros(2)\n",
    "tt = np.zeros(2)\n",
    "ss[0] = g[0].real\n",
    "tt[0] = g[0].imag\n",
    "ss[1] = g[1].real\n",
    "tt[1] = g[1].imag"
   ]
  },
  {
   "cell_type": "markdown",
   "metadata": {},
   "source": [
    "calculate the SRG of a"
   ]
  },
  {
   "cell_type": "code",
   "execution_count": 16,
   "metadata": {},
   "outputs": [],
   "source": [
    "n = 1000\n",
    "s = np.zeros(n)\n",
    "t = np.zeros(n)\n",
    "p = np.zeros(n)\n",
    "\n",
    "for i in range(n):\n",
    "    x = np.random.rand(2)\n",
    "    x = 20*(x.reshape(2,1)-0.5)\n",
    "    #print(x)\n",
    "    u = np.matmul(a,x)\n",
    "    #print(u)\n",
    "\n",
    "    unorm = np.linalg.norm(u)\n",
    "    xnorm = np.linalg.norm(x)\n",
    "    r = unorm / xnorm \n",
    "    #print(unorm,xnorm,r,np.vdot(u,x))\n",
    "\n",
    "    cos_theta = np.vdot(u,x)/(unorm * xnorm)\n",
    "    theta = np.arccos(cos_theta)\n",
    "    angle = theta*360/2/np.pi\n",
    "    #print(theta,angle)\n",
    "    \n",
    "    s[i] = r * np.cos(theta)\n",
    "    t[i] = r * np.sin(theta)\n",
    "    p[i] = r * np.sin(-theta)"
   ]
  },
  {
   "cell_type": "markdown",
   "metadata": {},
   "source": [
    "plot"
   ]
  },
  {
   "cell_type": "code",
   "execution_count": 18,
   "metadata": {},
   "outputs": [
    {
     "data": {
      "image/png": "[encoded data removed]",
      "text/plain": [
       "<Figure size 432x288 with 1 Axes>"
      ]
     },
     "metadata": {
      "needs_background": "light"
     },
     "output_type": "display_data"
    }
   ],
   "source": [
    "import matplotlib.pyplot as plt\n",
    "plt.scatter(s, t)\n",
    "plt.scatter(s, p)\n",
    "plt.scatter(ss, tt)\n",
    "plt.show()"
   ]
  },
  {
   "cell_type": "code",
   "execution_count": null,
   "metadata": {},
   "outputs": [],
   "source": []
  }
 ],
 "metadata": {
  "kernelspec": {
   "display_name": "Python [conda env:.conda-devito] *",
   "language": "python",
   "name": "conda-env-.conda-devito-py"
  },
  "language_info": {
   "codemirror_mode": {
    "name": "ipython",
    "version": 3
   },
   "file_extension": ".py",
   "mimetype": "text/x-python",
   "name": "python",
   "nbconvert_exporter": "python",
   "pygments_lexer": "ipython3",
   "version": "3.7.5"
  }
 },
 "nbformat": 4,
 "nbformat_minor": 4
}
