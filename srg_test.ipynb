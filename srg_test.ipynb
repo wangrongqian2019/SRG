{
 "cells": [
  {
   "cell_type": "code",
   "execution_count": 211,
   "metadata": {},
   "outputs": [],
   "source": [
    "import numpy.matlib\n",
    "import numpy as np"
   ]
  },
  {
   "cell_type": "markdown",
   "metadata": {},
   "source": [
    "2 * 2  matrix"
   ]
  },
  {
   "cell_type": "code",
   "execution_count": 212,
   "metadata": {},
   "outputs": [],
   "source": [
    "a = np.array([1,2,-1,2])\n",
    "a = a.reshape(2,2)"
   ]
  },
  {
   "cell_type": "markdown",
   "metadata": {},
   "source": [
    "eigenvalue"
   ]
  },
  {
   "cell_type": "code",
   "execution_count": 213,
   "metadata": {},
   "outputs": [],
   "source": [
    "g,h = numpy.linalg.eig(a)\n",
    "ss = np.zeros(2)\n",
    "tt = np.zeros(2)\n",
    "ss[0] = g[0].real\n",
    "tt[0] = g[0].imag\n",
    "ss[1] = g[1].real\n",
    "tt[1] = g[1].imag"
   ]
  },
  {
   "cell_type": "code",
   "execution_count": 214,
   "metadata": {},
   "outputs": [],
   "source": [
    "n = 1000\n",
    "s = np.zeros(n)\n",
    "t = np.zeros(n)\n",
    "p = np.zeros(n)"
   ]
  },
  {
   "cell_type": "markdown",
   "metadata": {},
   "source": [
    "SRG:"
   ]
  },
  {
   "cell_type": "code",
   "execution_count": 215,
   "metadata": {},
   "outputs": [],
   "source": [
    "for i in range(n):\n",
    "    x = np.random.rand(2)\n",
    "    x = 20*(x.reshape(2,1)-0.5)\n",
    "    #print(x)\n",
    "    u = np.matmul(a,x)\n",
    "    #print(u)\n",
    "\n",
    "    unorm = np.linalg.norm(u)\n",
    "    xnorm = np.linalg.norm(x)\n",
    "    r = unorm / xnorm \n",
    "    #print(unorm,xnorm,r,np.vdot(u,x))\n",
    "\n",
    "    cos_theta = np.vdot(u,x)/(unorm * xnorm)\n",
    "    theta = np.arccos(cos_theta)\n",
    "    angle = theta*360/2/np.pi\n",
    "    #print(theta,angle)\n",
    "    \n",
    "    s[i] = r * np.cos(theta)\n",
    "    t[i] = r * np.sin(theta)\n",
    "    p[i] = r * np.sin(-theta)"
   ]
  },
  {
   "cell_type": "code",
   "execution_count": 216,
   "metadata": {},
   "outputs": [
    {
     "data": {
      "image/png": "[encoded data removed]",
      "text/plain": [
       "<Figure size 432x288 with 1 Axes>"
      ]
     },
     "metadata": {
      "needs_background": "light"
     },
     "output_type": "display_data"
    }
   ],
   "source": [
    "import matplotlib.pyplot as plt\n",
    "plt.scatter(s, t)\n",
    "plt.scatter(s, p)\n",
    "plt.scatter(ss, tt)\n",
    "plt.show()"
   ]
  },
  {
   "cell_type": "code",
   "execution_count": null,
   "metadata": {},
   "outputs": [],
   "source": []
  }
 ],
 "metadata": {
  "kernelspec": {
   "display_name": "Python [conda env:.conda-devito] *",
   "language": "python",
   "name": "conda-env-.conda-devito-py"
  },
  "language_info": {
   "codemirror_mode": {
    "name": "ipython",
    "version": 3
   },
   "file_extension": ".py",
   "mimetype": "text/x-python",
   "name": "python",
   "nbconvert_exporter": "python",
   "pygments_lexer": "ipython3",
   "version": "3.7.5"
  }
 },
 "nbformat": 4,
 "nbformat_minor": 4
}
